{
 "cells": [
  {
   "cell_type": "markdown",
   "metadata": {},
   "source": [
    "The following is used to generate a runfile/namelist for ecosim.\n",
    "Code is created by Jinyun Tang in Feb 2023.\n"
   ]
  },
  {
   "cell_type": "code",
   "execution_count": null,
   "metadata": {},
   "outputs": [],
   "source": [
    "#set up run time\n",
    "#first year of the simulation, relative to the climate record\n",
    "year0=1\n",
    "#starting record of spinup climate\n",
    "year1=2\n",
    "#ending record of spinup climate\n",
    "year2=3\n",
    "#ncyc\n",
    "ncyc=2\n",
    "#the total spinup years then is 1+(year2-year1+1)*ncyc+(year4-year3+1)\n",
    "sim_periods=[year0,year0,1,year1,year2,ncyc,year3,year4,1]\n",
    "#generate CO2 and CH4 time series\n",
    "CO2_ref=360.  #ppmv\n",
    "CH4_ref=800.  #ppbv\n",
    "\n",
    "\n"
   ]
  }
 ],
 "metadata": {
  "kernelspec": {
   "display_name": "Python 3",
   "language": "python",
   "name": "python3"
  },
  "language_info": {
   "codemirror_mode": {
    "name": "ipython",
    "version": 3
   },
   "file_extension": ".py",
   "mimetype": "text/x-python",
   "name": "python",
   "nbconvert_exporter": "python",
   "pygments_lexer": "ipython3",
   "version": "3.8.3"
  }
 },
 "nbformat": 4,
 "nbformat_minor": 4
}
