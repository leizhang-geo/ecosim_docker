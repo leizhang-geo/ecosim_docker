{
 "cells": [
  {
   "cell_type": "code",
   "execution_count": 10,
   "metadata": {},
   "outputs": [],
   "source": [
    "#libraries\n",
    "import numpy as np\n",
    "from netCDF4 import Dataset\n",
    "import subprocess\n",
    "from pathlib import Path\n"
   ]
  },
  {
   "cell_type": "code",
   "execution_count": 11,
   "metadata": {},
   "outputs": [],
   "source": [
    "def ParamModify(parfile,pft,parnm,parval,iscale=False):\n",
    "    \"\"\"\n",
    "    modify parameter parnm of pft on file parfile\n",
    "    \"\"\"\n",
    "    \n",
    "    with Dataset(parfile, 'r+') as nc_file:\n",
    "        variable = nc_file.variables['pfts']\n",
    "        loc=0\n",
    "        for var in variable:\n",
    "            result_string=''\n",
    "            for byte in var:\n",
    "                if byte:\n",
    "                    result_string=''.join([result_string,byte.decode('utf-8')])\n",
    "            if result_string.strip()==pft:                \n",
    "                variable1=nc_file.variables[parnm]\n",
    "                if iscale:\n",
    "                    print(\"%s for %s is %f, and changed to %f\"%(parnm,pft,variable1[loc],parval*variable1[loc]))\n",
    "                    variable1[loc]=parval*variable1[loc]\n",
    "                else:\n",
    "                    print(\"%s for %s is %f, and changed to %f\"%(parnm,pft,variable1[loc],parval))\n",
    "                    variable1[loc]=parval\n",
    "                break\n",
    "            loc=loc+1\n"
   ]
  },
  {
   "cell_type": "code",
   "execution_count": 12,
   "metadata": {},
   "outputs": [
    {
     "name": "stdout",
     "output_type": "stream",
     "text": [
      "SLA1 for sedg62 is 0.001998, and changed to 0.002997\n"
     ]
    }
   ],
   "source": [
    "#how to \n",
    "parfile='/Users/jinyuntang/work/github/EcoSIM/input_data/ecosim_pft_20240314.nc'\n",
    "parfile='/Users/jinyuntang/work/github/ecosim_benchmark/smallset/Blodget'\n",
    "pft='sedg62'\n",
    "pft='ENF234'\n",
    "parnm='SLA1'\n",
    "#parnm='PORT'\n",
    "#ParamModify(parfile,pft,parnm,0.8)\n",
    "\n",
    "ParamModify(parfile,pft,parnm,1.5,iscale=True)\n"
   ]
  },
  {
   "cell_type": "code",
   "execution_count": null,
   "metadata": {},
   "outputs": [],
   "source": []
  }
 ],
 "metadata": {
  "kernelspec": {
   "display_name": "Python 3 (ipykernel)",
   "language": "python",
   "name": "python3"
  },
  "language_info": {
   "codemirror_mode": {
    "name": "ipython",
    "version": 3
   },
   "file_extension": ".py",
   "mimetype": "text/x-python",
   "name": "python",
   "nbconvert_exporter": "python",
   "pygments_lexer": "ipython3",
   "version": "3.12.4"
  }
 },
 "nbformat": 4,
 "nbformat_minor": 4
}
