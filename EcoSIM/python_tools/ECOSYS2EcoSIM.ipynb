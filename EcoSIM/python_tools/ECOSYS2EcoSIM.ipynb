{
 "cells": [
  {
   "cell_type": "markdown",
   "id": "802b1290-0287-4821-8f1f-b563f19f780d",
   "metadata": {},
   "source": [
    "# The following script will change ECOSYS input files into EcoSIM input files"
   ]
  },
  {
   "cell_type": "code",
   "execution_count": 1,
   "id": "f7a9d5cd-84cd-4cf4-b66f-8eb7665c2cc9",
   "metadata": {},
   "outputs": [
    {
     "name": "stdout",
     "output_type": "stream",
     "text": [
      "generate grid data for PLM\n",
      "NH1=1,NH2=1,NV1=1,NV2=1\n",
      "NH1=2,NH2=2,NV1=1,NV2=1\n",
      "NH1=3,NH2=3,NV1=1,NV2=1\n",
      "NH1=4,NH2=4,NV1=1,NV2=1\n",
      "NH1=5,NH2=5,NV1=1,NV2=1\n",
      "NH1=6,NH2=6,NV1=1,NV2=1\n",
      "NH1=7,NH2=7,NV1=1,NV2=1\n",
      "generate soil managment data for PLM\n",
      "check file /Users/jinyuntang/work/github/ecosim_benchmark/smallset/PLM/PLM_soilmgmt_20241120.nc\n",
      "generate pft data for PLM\n",
      "check file /Users/jinyuntang/work/github/ecosim_benchmark/smallset/PLM/PLM_pft_20241120.nc\n",
      "reading file /Users/jinyuntang/work/github/ecosys_benchmark/plmrEcosys/nlegp1\n",
      "/Users/jinyuntang/work/github/ecosys_benchmark/plmrEcosys/forbp\n",
      "/Users/jinyuntang/work/github/ecosys_benchmark/plmrEcosys/shrubp\n",
      "/Users/jinyuntang/work/github/ecosys_benchmark/plmrEcosys/lupinep\n",
      "/Users/jinyuntang/work/github/ecosys_benchmark/plmrEcosys/grassp\n",
      "/Users/jinyuntang/work/github/ecosys_benchmark/plmrEcosys/shrubp\n",
      "/Users/jinyuntang/work/github/ecosys_benchmark/plmrEcosys/forbp\n",
      "/Users/jinyuntang/work/github/ecosys_benchmark/plmrEcosys/shrubp\n",
      "/Users/jinyuntang/work/github/ecosys_benchmark/plmrEcosys/lupinep\n",
      "/Users/jinyuntang/work/github/ecosys_benchmark/plmrEcosys/grassp\n",
      "/Users/jinyuntang/work/github/ecosys_benchmark/plmrEcosys/shrubp\n",
      "/Users/jinyuntang/work/github/ecosys_benchmark/plmrEcosys/forbp\n",
      "/Users/jinyuntang/work/github/ecosys_benchmark/plmrEcosys/shrubp\n",
      "/Users/jinyuntang/work/github/ecosys_benchmark/plmrEcosys/lupinep\n",
      "/Users/jinyuntang/work/github/ecosys_benchmark/plmrEcosys/grassp\n",
      "/Users/jinyuntang/work/github/ecosys_benchmark/plmrEcosys/shrubp\n",
      "/Users/jinyuntang/work/github/ecosys_benchmark/plmrEcosys/forbp\n",
      "/Users/jinyuntang/work/github/ecosys_benchmark/plmrEcosys/shrubp\n",
      "/Users/jinyuntang/work/github/ecosys_benchmark/plmrEcosys/lupinep\n",
      "/Users/jinyuntang/work/github/ecosys_benchmark/plmrEcosys/grassp\n",
      "/Users/jinyuntang/work/github/ecosys_benchmark/plmrEcosys/shrubp\n",
      "/Users/jinyuntang/work/github/ecosys_benchmark/plmrEcosys/forbp\n",
      "/Users/jinyuntang/work/github/ecosys_benchmark/plmrEcosys/shrubp\n",
      "/Users/jinyuntang/work/github/ecosys_benchmark/plmrEcosys/lupinep\n",
      "/Users/jinyuntang/work/github/ecosys_benchmark/plmrEcosys/grassp\n",
      "/Users/jinyuntang/work/github/ecosys_benchmark/plmrEcosys/shrubp\n",
      "/Users/jinyuntang/work/github/ecosys_benchmark/plmrEcosys/forbp\n",
      "/Users/jinyuntang/work/github/ecosys_benchmark/plmrEcosys/shrubp\n",
      "/Users/jinyuntang/work/github/ecosys_benchmark/plmrEcosys/lupinep\n",
      "/Users/jinyuntang/work/github/ecosys_benchmark/plmrEcosys/grassp\n",
      "/Users/jinyuntang/work/github/ecosys_benchmark/plmrEcosys/shrubp\n",
      "/Users/jinyuntang/work/github/ecosys_benchmark/plmrEcosys/forbp\n",
      "/Users/jinyuntang/work/github/ecosys_benchmark/plmrEcosys/shrubp\n",
      "/Users/jinyuntang/work/github/ecosys_benchmark/plmrEcosys/lupinep\n",
      "/Users/jinyuntang/work/github/ecosys_benchmark/plmrEcosys/grassp\n",
      "/Users/jinyuntang/work/github/ecosys_benchmark/plmrEcosys/shrubp\n",
      "reading file /Users/jinyuntang/work/github/ecosys_benchmark/plmrEcosys/nlegg1\n"
     ]
    }
   ],
   "source": [
    "config_plm_dict={\n",
    "'case':'PLM',\n",
    "'mdir':'/Users/jinyuntang/work/github/ecosys_benchmark/plmrEcosys/',\n",
    "'outdir':'/Users/jinyuntang/work/github/ecosim_benchmark/smallset/PLM/',    \n",
    "'pftf':'nlegp1:nlegg1',  \n",
    "'sitef':'st074773',\n",
    "'topf':'tp074773',        \n",
    "'ntopu':'7',  #number of grids\n",
    "'ncol':'7',\n",
    "'nrow':'1',\n",
    "'NHW':'1',\n",
    "'NVN':'1',\n",
    "'NHE':'7',\n",
    "'NVS':'1'    \n",
    "}    \n",
    "\n",
    "config_dict=config_plm_dict\n",
    "\n",
    "from SiteTopoWriter import write_site_topo_data\n",
    "\n",
    "#write site and topographic file\n",
    "write_site_topo_data(config_dict)\n",
    "\n",
    "#write soil management file\n",
    "from soilManagementWriter import write_soil_mgmt\n",
    "\n",
    "write_soil_mgmt(config_dict)\n",
    "\n",
    "#write pft managment file\n",
    "from pftMgmtWriter import write_pft_mgmt\n",
    "\n",
    "write_pft_mgmt(config_dict)\n"
   ]
  },
  {
   "cell_type": "code",
   "execution_count": null,
   "id": "3d692f6d-9612-43ec-a117-7e3381b72638",
   "metadata": {},
   "outputs": [],
   "source": []
  }
 ],
 "metadata": {
  "kernelspec": {
   "display_name": "Python 3 (ipykernel)",
   "language": "python",
   "name": "python3"
  },
  "language_info": {
   "codemirror_mode": {
    "name": "ipython",
    "version": 3
   },
   "file_extension": ".py",
   "mimetype": "text/x-python",
   "name": "python",
   "nbconvert_exporter": "python",
   "pygments_lexer": "ipython3",
   "version": "3.12.4"
  }
 },
 "nbformat": 4,
 "nbformat_minor": 5
}
